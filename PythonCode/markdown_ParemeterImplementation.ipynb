{
 "cells": [
  {
   "cell_type": "markdown",
   "metadata": {},
   "source": [
    "### <font color = 'gree'>Markdown file containing all of the changes I make as I begin to implement disassembly kinetics</font>"
   ]
  },
  {
   "cell_type": "markdown",
   "metadata": {},
   "source": [
    "changed 'tMax variable to 8.5 instead of 4.5' on Line 13 of Oscillator class cell\n",
    "\n",
    "adding rate paramters \"kfhyd\" & \"kfdis\" to dynaminODE function on Lines 227 and 228 - two new rate constants, and then one new species \"Dfinal\" (after hydrolysis)\n",
    "\n",
    "added variables dynGTPhyd, dynDisassemblytoMem, and dynDisassemblytoSol\n",
    "added dy6, dy7, and dy8 to model and to be returned in dydt numpy array\n",
    "\n",
    "added kfhyd and kfdis to simulate_pre function on Line 154 as well as filler for y[6] which is called from initValues variable in simulate_pre, and is GTPconc\n",
    "\n",
    "added GTPconc variable to simulate_pre function\n",
    "\n",
    "added fillers for \"kfhyd\" and \"kfdis\" in parameter_ranges cell block and added them to paramsToOpt\n",
    "\n",
    "added GTPconc variable to cell that runs DEAP GA, and specified a GTPtestValues ranging from 50um to 250um\n",
    "\n",
    "added argument GTPconc to oscillator class, including self.GPTconc = GTPconc on line 40\n",
    "\n",
    "added GTPconc = self.GTPconc to simulate_pre function, line 143\n",
    "\n",
    "added kfhyd=candidate[6] and kfdis=candidate[7] in simulate_pre function\n",
    "\n",
    "CONCERN - candidat[5] is never called anywhere in the simulate_pre script - I removed it from the DEAP GA cell and it did not seem to affect final results at all\n",
    "\n",
    "Therefore, I re-classified kfhyd and kfdis as candidate[5] and candidate[6] in the simulate_pre function\n",
    "\n",
    "when running the DEAP GA simualtion cell, I added value of 100 for GTPconc, and cadidate rates of XXXX & XXXX for kfhyd and kfdis, respectively\n",
    "\n",
    "need to adjust solver class, specifically write_sortedParms function\n",
    "\n",
    "\n",
    "\n"
   ]
  }
 ],
 "metadata": {
  "language_info": {
   "name": "python"
  },
  "orig_nbformat": 4
 },
 "nbformat": 4,
 "nbformat_minor": 2
}
